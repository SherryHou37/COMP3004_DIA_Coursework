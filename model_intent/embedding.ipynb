{
 "cells": [
  {
   "cell_type": "code",
   "execution_count": 16,
   "id": "90d9a78c",
   "metadata": {},
   "outputs": [],
   "source": [
    "from sentence_transformers import SentenceTransformer, util\n",
    "import json"
   ]
  },
  {
   "cell_type": "code",
   "execution_count": 17,
   "id": "f13f9493",
   "metadata": {},
   "outputs": [
    {
     "name": "stdout",
     "output_type": "stream",
     "text": [
      "d:\\learning\\year4_2\\dia\\cw\\Dia_Yixin\\model_intent\n",
      "True\n"
     ]
    },
    {
     "data": {
      "text/html": [
       "<div>\n",
       "<style scoped>\n",
       "    .dataframe tbody tr th:only-of-type {\n",
       "        vertical-align: middle;\n",
       "    }\n",
       "\n",
       "    .dataframe tbody tr th {\n",
       "        vertical-align: top;\n",
       "    }\n",
       "\n",
       "    .dataframe thead th {\n",
       "        text-align: right;\n",
       "    }\n",
       "</style>\n",
       "<table border=\"1\" class=\"dataframe\">\n",
       "  <thead>\n",
       "    <tr style=\"text-align: right;\">\n",
       "      <th></th>\n",
       "      <th>input</th>\n",
       "    </tr>\n",
       "  </thead>\n",
       "  <tbody>\n",
       "    <tr>\n",
       "      <th>47493</th>\n",
       "      <td>I wake in the night, usually about 2-3 hours a...</td>\n",
       "    </tr>\n",
       "    <tr>\n",
       "      <th>65740</th>\n",
       "      <td>Honorable Sir,I am Ripon Dev from Bangladesh.M...</td>\n",
       "    </tr>\n",
       "    <tr>\n",
       "      <th>69490</th>\n",
       "      <td>Ive had a cold which started on Christmas eve ...</td>\n",
       "    </tr>\n",
       "    <tr>\n",
       "      <th>39656</th>\n",
       "      <td>I had cervical laminectomy surgery for spinal ...</td>\n",
       "    </tr>\n",
       "    <tr>\n",
       "      <th>45796</th>\n",
       "      <td>Hello, At the end of lacrosse practice about a...</td>\n",
       "    </tr>\n",
       "  </tbody>\n",
       "</table>\n",
       "</div>"
      ],
      "text/plain": [
       "                                                   input\n",
       "47493  I wake in the night, usually about 2-3 hours a...\n",
       "65740  Honorable Sir,I am Ripon Dev from Bangladesh.M...\n",
       "69490  Ive had a cold which started on Christmas eve ...\n",
       "39656  I had cervical laminectomy surgery for spinal ...\n",
       "45796  Hello, At the end of lacrosse practice about a..."
      ]
     },
     "execution_count": 17,
     "metadata": {},
     "output_type": "execute_result"
    }
   ],
   "source": [
    "import pandas as pd\n",
    "import numpy as np\n",
    "import os\n",
    "\n",
    "TRAINING_NUM = 16\n",
    "\n",
    "print(os.getcwd())\n",
    "print(os.path.exists(\"../utils/healthCare.parquet\"))\n",
    "\n",
    "# get input training data\n",
    "df_physiological = pd.read_parquet(\"../utils/healthCare.parquet\").dropna()\n",
    "df_psychological = pd.read_json(\"../utils/mentalHealth.json\", lines=True).dropna()\n",
    "\n",
    "# select \"input\" from df_physiological, and randomly select 25 rows\n",
    "df_physiological = df_physiological[[\"input\"]]\n",
    "df_physiological = df_physiological.sample(TRAINING_NUM//2, random_state=42)\n",
    "df_psychological = df_psychological[[\"Context\"]]\n",
    "df_psychological = df_psychological.sample(TRAINING_NUM//2, random_state=42)\n",
    "df_physiological.head(5)"
   ]
  },
  {
   "cell_type": "code",
   "execution_count": 18,
   "id": "8f3f6c78",
   "metadata": {},
   "outputs": [
    {
     "data": {
      "text/html": [
       "<div>\n",
       "<style scoped>\n",
       "    .dataframe tbody tr th:only-of-type {\n",
       "        vertical-align: middle;\n",
       "    }\n",
       "\n",
       "    .dataframe tbody tr th {\n",
       "        vertical-align: top;\n",
       "    }\n",
       "\n",
       "    .dataframe thead th {\n",
       "        text-align: right;\n",
       "    }\n",
       "</style>\n",
       "<table border=\"1\" class=\"dataframe\">\n",
       "  <thead>\n",
       "    <tr style=\"text-align: right;\">\n",
       "      <th></th>\n",
       "      <th>Context</th>\n",
       "    </tr>\n",
       "  </thead>\n",
       "  <tbody>\n",
       "    <tr>\n",
       "      <th>495</th>\n",
       "      <td>I've hit my head on walls and floors ever sinc...</td>\n",
       "    </tr>\n",
       "    <tr>\n",
       "      <th>1592</th>\n",
       "      <td>Over a year ago I had a female friend. She tur...</td>\n",
       "    </tr>\n",
       "    <tr>\n",
       "      <th>2314</th>\n",
       "      <td>My long-distance girlfriend is in a sorority, ...</td>\n",
       "    </tr>\n",
       "    <tr>\n",
       "      <th>1475</th>\n",
       "      <td>Cheating is something unacceptable for me but ...</td>\n",
       "    </tr>\n",
       "    <tr>\n",
       "      <th>2772</th>\n",
       "      <td>When my daughter is stressed about a silly thi...</td>\n",
       "    </tr>\n",
       "  </tbody>\n",
       "</table>\n",
       "</div>"
      ],
      "text/plain": [
       "                                                Context\n",
       "495   I've hit my head on walls and floors ever sinc...\n",
       "1592  Over a year ago I had a female friend. She tur...\n",
       "2314  My long-distance girlfriend is in a sorority, ...\n",
       "1475  Cheating is something unacceptable for me but ...\n",
       "2772  When my daughter is stressed about a silly thi..."
      ]
     },
     "execution_count": 18,
     "metadata": {},
     "output_type": "execute_result"
    }
   ],
   "source": [
    "# select \"input\" from df_physiological, and randomly select 25 rows\n",
    "df_psychological.head(5)"
   ]
  },
  {
   "cell_type": "code",
   "execution_count": 19,
   "id": "a8d710c4",
   "metadata": {},
   "outputs": [],
   "source": [
    "\n",
    "def get_embedding(physiological_templates, psychological_templates):\n",
    "\t# 加载语义模型\n",
    "\tmodel = SentenceTransformer('paraphrase-MiniLM-L6-v2')\n",
    "\n",
    "\t# 定义模板（生理和心理）\n",
    "\n",
    "\t# 合并所有模板\n",
    "\ttemplates = [{\"text\": text, \"category\": \"physiological\"} for text in physiological_templates] + \\\n",
    "\t\t\t\t[{\"text\": text, \"category\": \"psychological\"} for text in psychological_templates]\n",
    "\n",
    "\t# 计算嵌入向量\n",
    "\tfor template in templates:\n",
    "\t\ttemplate['embedding'] = model.encode(template['text']).tolist()\n",
    "\n",
    "\t# 保存到文件（JSON 格式）\n",
    "\twith open(\"template_embeddings\"+str(TRAINING_NUM)+\".json\", \"w\", encoding=\"utf-8\") as file:\n",
    "\t\tjson.dump(templates, file, ensure_ascii=False, indent=4)\n",
    "\n",
    "\tprint(\"save embedding template into 'template_embeddings.json'\")\n"
   ]
  },
  {
   "cell_type": "code",
   "execution_count": 20,
   "id": "05a30646",
   "metadata": {},
   "outputs": [
    {
     "name": "stdout",
     "output_type": "stream",
     "text": [
      "save embedding template into 'template_embeddings.json'\n"
     ]
    }
   ],
   "source": [
    "get_embedding(df_physiological[\"input\"].tolist(), df_psychological[\"Context\"].tolist())"
   ]
  },
  {
   "cell_type": "code",
   "execution_count": 22,
   "id": "d9bd39cd",
   "metadata": {},
   "outputs": [
    {
     "name": "stdout",
     "output_type": "stream",
     "text": [
      "分配给: physiological_agent\n"
     ]
    }
   ],
   "source": [
    "def match_intent(input_text):\n",
    "\t# 加载预先计算的模板嵌入\n",
    "\twith open(\"template_embeddings\"+str(TRAINING_NUM)+\".json\", \"r\", encoding=\"utf-8\") as file:\n",
    "\t\ttemplates = json.load(file)\n",
    "\n",
    "\t# 加载语义模型\n",
    "\tmodel = SentenceTransformer('paraphrase-MiniLM-L6-v2')\n",
    "\n",
    "\t# 计算用户输入的嵌入向量\n",
    "\tuser_embedding = model.encode(input_text)\n",
    "\n",
    "\tbest_score = -1\n",
    "\tbest_category = \"physiological\"  # default category\n",
    "\n",
    "\t# 与所有模板嵌入计算相似度\n",
    "\tfor template in templates:\n",
    "\t\ttemplate_embedding = template['embedding']\n",
    "\t\tscore = util.cos_sim(user_embedding, template_embedding).item()\n",
    "\t\tif score > best_score:\n",
    "\t\t\tbest_score = score\n",
    "\t\t\tbest_category = template['category']\n",
    "\n",
    "\treturn f\"{best_category}_agent\"\n",
    "\n",
    "# 测试\n",
    "user_input = \"\"\"i feel like i have persistent knee pain that has been going on for two days.\"\"\"\n",
    "agent = match_intent(user_input)\n",
    "print(f\"分配给: {agent}\")\n"
   ]
  }
 ],
 "metadata": {
  "kernelspec": {
   "display_name": "dia",
   "language": "python",
   "name": "python3"
  },
  "language_info": {
   "codemirror_mode": {
    "name": "ipython",
    "version": 3
   },
   "file_extension": ".py",
   "mimetype": "text/x-python",
   "name": "python",
   "nbconvert_exporter": "python",
   "pygments_lexer": "ipython3",
   "version": "3.10.17"
  }
 },
 "nbformat": 4,
 "nbformat_minor": 5
}
