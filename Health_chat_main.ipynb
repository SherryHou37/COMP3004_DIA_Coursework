{
 "cells": [
  {
   "cell_type": "code",
   "execution_count": 1,
   "id": "8e0e971b",
   "metadata": {},
   "outputs": [
    {
     "name": "stderr",
     "output_type": "stream",
     "text": [
      "c:\\Users\\nibaaa\\.conda\\envs\\dia\\lib\\site-packages\\tqdm\\auto.py:21: TqdmWarning: IProgress not found. Please update jupyter and ipywidgets. See https://ipywidgets.readthedocs.io/en/stable/user_install.html\n",
      "  from .autonotebook import tqdm as notebook_tqdm\n"
     ]
    }
   ],
   "source": [
    "import tkinter as tk\n",
    "from tkinter import scrolledtext, ttk\n",
    "from Health_chat import HealthChat"
   ]
  },
  {
   "cell_type": "code",
   "execution_count": 2,
   "id": "affbf10b",
   "metadata": {},
   "outputs": [
    {
     "name": "stdout",
     "output_type": "stream",
     "text": [
      "✅ Tokenizer is loaded successfully: /tokenizer/tokenizerForHealthCare.pkl\n",
      "✅ Tokenizer is loaded successfully: /tokenizer/tokenizerForMentalHealth.pkl\n"
     ]
    }
   ],
   "source": [
    "\n",
    "chat_bot = HealthChat()"
   ]
  },
  {
   "cell_type": "code",
   "execution_count": 3,
   "id": "f2114c81",
   "metadata": {},
   "outputs": [],
   "source": [
    "# main window\n",
    "root = tk.Tk()\n",
    "root.title(\"HealthChat GUI\")\n",
    "root.geometry(\"700x550\")\n",
    "\n",
    "history = scrolledtext.ScrolledText(root, wrap=tk.WORD, state='disabled')\n",
    "history.pack(padx=10, pady=10, fill=tk.BOTH, expand=True)\n",
    "\n",
    "# model selection\n",
    "model_label = tk.Label(root, text=\"Model Selection:\")\n",
    "model_label.pack(padx=10, pady=2)\n",
    "model_var = tk.StringVar(value=\"1\")\n",
    "model_dropdown = ttk.Combobox(root, textvariable=model_var)\n",
    "model_dropdown['values'] = [\"1: biLSTM\", \"2: biGRU\", \"3: TransformerV1\", \"4: TransformerV2\"]\n",
    "model_dropdown.pack(padx=10, pady=5)\n",
    "\n",
    "# intent dropdown\n",
    "intent_label = tk.Label(root, text=\"Intent Matching Method:\")\n",
    "intent_label.pack(padx=10, pady=2)\n",
    "intent_var = tk.StringVar(value=\"1\")\n",
    "intent_dropdown = ttk.Combobox(root, textvariable=intent_var)\n",
    "intent_dropdown['values'] = [\"1: KeyWord Matching\", \"2: Cosine Similarity\"]\n",
    "intent_dropdown.pack(padx=10, pady=5)\n",
    "\n",
    "# input field\n",
    "user_input = tk.Entry(root)\n",
    "user_input.pack(padx=10, pady=5, fill=tk.X)"
   ]
  },
  {
   "cell_type": "code",
   "execution_count": null,
   "id": "eb75d080",
   "metadata": {},
   "outputs": [],
   "source": [
    "\n",
    "def send_message():\n",
    "    input_text = user_input.get()\n",
    "    if not input_text.strip():\n",
    "        return\n",
    "\n",
    "    model_id = int(model_var.get().split(\":\")[0])\n",
    "    chat_bot.set_current_model(model_id)\n",
    "\n",
    "    intent_id = int(intent_var.get().split(\":\")[0])\n",
    "    chat_bot.set_intent_matching_method(intent_id, 50)\n",
    "\n",
    "    history.config(state='normal')\n",
    "    history.insert(tk.END, \"You: \" + input_text + \"\\n\")\n",
    "\n",
    "    response, intent, method = chat_bot.chat(input_text)\n",
    "    history.insert(tk.END, \"Bot_\"+intent+\"_\"+method+\": \" + response + \"\\n\", (\"bot_response\"))\n",
    "    history.tag_config(\"bot_response\", foreground=\"blue\")\n",
    "    history.config(state='disabled')\n",
    "\n",
    "    user_input.delete(0, tk.END)"
   ]
  },
  {
   "cell_type": "code",
   "execution_count": null,
   "id": "e8bb8432",
   "metadata": {},
   "outputs": [],
   "source": [
    "# 发送按钮绑定\n",
    "send_button = tk.Button(root, text=\"Send\", command=send_message)\n",
    "send_button.pack(padx=10, pady=5)\n",
    "\n",
    "root.mainloop()"
   ]
  }
 ],
 "metadata": {
  "kernelspec": {
   "display_name": "dia",
   "language": "python",
   "name": "python3"
  },
  "language_info": {
   "codemirror_mode": {
    "name": "ipython",
    "version": 3
   },
   "file_extension": ".py",
   "mimetype": "text/x-python",
   "name": "python",
   "nbconvert_exporter": "python",
   "pygments_lexer": "ipython3",
   "version": "3.10.17"
  }
 },
 "nbformat": 4,
 "nbformat_minor": 5
}
