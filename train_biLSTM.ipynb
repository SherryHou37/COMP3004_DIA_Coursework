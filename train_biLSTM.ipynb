{
 "cells": [
  {
   "cell_type": "code",
   "execution_count": 1,
   "id": "13f2da0f",
   "metadata": {},
   "outputs": [],
   "source": [
    "import pandas as pd\n",
    "import tensorflow as tf\n",
    "import torch"
   ]
  },
  {
   "cell_type": "code",
   "execution_count": 2,
   "id": "df4a3833",
   "metadata": {},
   "outputs": [
    {
     "data": {
      "text/html": [
       "<div>\n",
       "<style scoped>\n",
       "    .dataframe tbody tr th:only-of-type {\n",
       "        vertical-align: middle;\n",
       "    }\n",
       "\n",
       "    .dataframe tbody tr th {\n",
       "        vertical-align: top;\n",
       "    }\n",
       "\n",
       "    .dataframe thead th {\n",
       "        text-align: right;\n",
       "    }\n",
       "</style>\n",
       "<table border=\"1\" class=\"dataframe\">\n",
       "  <thead>\n",
       "    <tr style=\"text-align: right;\">\n",
       "      <th></th>\n",
       "      <th>input</th>\n",
       "      <th>output</th>\n",
       "    </tr>\n",
       "  </thead>\n",
       "  <tbody>\n",
       "    <tr>\n",
       "      <th>0</th>\n",
       "      <td>I woke up this morning feeling the whole room ...</td>\n",
       "      <td>Hi, Thank you for posting your query. The most...</td>\n",
       "    </tr>\n",
       "    <tr>\n",
       "      <th>1</th>\n",
       "      <td>My baby has been pooing 5-6 times a day for a ...</td>\n",
       "      <td>Hi... Thank you for consulting in Chat Doctor....</td>\n",
       "    </tr>\n",
       "    <tr>\n",
       "      <th>2</th>\n",
       "      <td>Hello, My husband is taking Oxycodone due to a...</td>\n",
       "      <td>Hello, and I hope I can help you today.First, ...</td>\n",
       "    </tr>\n",
       "    <tr>\n",
       "      <th>3</th>\n",
       "      <td>lump under left nipple and stomach pain (male)...</td>\n",
       "      <td>HI. You have two different problems. The lump ...</td>\n",
       "    </tr>\n",
       "    <tr>\n",
       "      <th>4</th>\n",
       "      <td>I have a 5 month old baby who is very congeste...</td>\n",
       "      <td>Thank you for using Chat Doctor. I would sugge...</td>\n",
       "    </tr>\n",
       "  </tbody>\n",
       "</table>\n",
       "</div>"
      ],
      "text/plain": [
       "                                               input  \\\n",
       "0  I woke up this morning feeling the whole room ...   \n",
       "1  My baby has been pooing 5-6 times a day for a ...   \n",
       "2  Hello, My husband is taking Oxycodone due to a...   \n",
       "3  lump under left nipple and stomach pain (male)...   \n",
       "4  I have a 5 month old baby who is very congeste...   \n",
       "\n",
       "                                              output  \n",
       "0  Hi, Thank you for posting your query. The most...  \n",
       "1  Hi... Thank you for consulting in Chat Doctor....  \n",
       "2  Hello, and I hope I can help you today.First, ...  \n",
       "3  HI. You have two different problems. The lump ...  \n",
       "4  Thank you for using Chat Doctor. I would sugge...  "
      ]
     },
     "execution_count": 2,
     "metadata": {},
     "output_type": "execute_result"
    }
   ],
   "source": [
    "# load the dataset\n",
    "df = pd.read_parquet('healthCare.parquet')\n",
    "# select the first 500 rows of the dataset\n",
    "df = df.iloc[:500, :]\n",
    "# select two columns\n",
    "df = df[['input', 'output']]   # original text and summary\n",
    "data = df.copy()\n",
    "data.head()"
   ]
  },
  {
   "cell_type": "code",
   "execution_count": 3,
   "id": "dee7143d",
   "metadata": {},
   "outputs": [
    {
     "name": "stdout",
     "output_type": "stream",
     "text": [
      "✅ Tokenizer is loaded successfully: /tokenizer/tokenizerForHealthCare.pkl\n",
      "tokenizer done, with length 41978\n",
      "vocab size: 15000\n"
     ]
    }
   ],
   "source": [
    "from myTokenizer import myTokenizer\n",
    "ThisTokenizer = myTokenizer(num_words=15000)\n",
    "# ThisTokenizer.train_from_parquet(parquet_path='healthCare.parquet', inputCol='input', outputCol='output')\n",
    "# ThisTokenizer.save_tokenizer('/tokenizer/tokenizerForHealthCare.pkl')\n",
    "\n",
    "TOKENIZER = ThisTokenizer.load_tokenizer('/tokenizer/tokenizerForHealthCare.pkl')\n",
    "print(\"tokenizer done, with length\", len(TOKENIZER.word_index) + 1)\n",
    "print(\"vocab size:\", TOKENIZER.num_words)"
   ]
  },
  {
   "cell_type": "code",
   "execution_count": 4,
   "id": "6e2dbba1",
   "metadata": {},
   "outputs": [
    {
     "name": "stdout",
     "output_type": "stream",
     "text": [
      "Vocabulary size: 41977\n",
      "Number of words: 15001\n",
      "<UNKNOWN>: 1\n",
      ".: 2\n",
      ",: 3\n",
      "i: 4\n",
      "and: 5\n",
      "the: 6\n",
      "to: 7\n",
      "a: 8\n",
      "is: 9\n",
      "of: 10\n",
      "you: 11\n",
      "in: 12\n",
      "for: 13\n",
      "it: 14\n",
      "your: 15\n",
      "my: 16\n",
      "have: 17\n",
      "<start>: 18\n",
      "<end>: 19\n",
      "be: 20\n",
      "this: 21\n",
      "with: 22\n",
      "can: 23\n",
      "doctor: 24\n",
      "not: 25\n",
      "that: 26\n",
      "on: 27\n",
      "if: 28\n",
      "or: 29\n",
      "are: 30\n",
      "as: 31\n",
      "UNK_ID: 1\n",
      ". token: 2\n"
     ]
    }
   ],
   "source": [
    "word2idx = TOKENIZER.word_index\n",
    "\n",
    "# show the length of the vocabulary\n",
    "print(f\"Vocabulary size: {len(word2idx)}\")\n",
    "print(f\"Number of words: {TOKENIZER.num_words + 1}\")\n",
    "\n",
    "idx2word = {v: k for k, v in word2idx.items()}\n",
    "\n",
    "for word, idx in word2idx.items():\n",
    "    print(f\"{word}: {idx}\")\n",
    "    if idx > 30:\n",
    "        break\n",
    "\n",
    "UNK_ID = word2idx['<UNKNOWN>']\n",
    "print(f\"UNK_ID: {UNK_ID}\")\n",
    "print(f\". token: {word2idx['.']}\")"
   ]
  },
  {
   "cell_type": "code",
   "execution_count": 5,
   "id": "e70f2700",
   "metadata": {},
   "outputs": [],
   "source": [
    "TRAINING_SIZE = 550\n",
    "BATCH_SIZE = 14\n",
    "INPUT_LIMIT = 200\n",
    "OUTPUT_LIMIT = 250\n",
    "VOCAB_SIZE = TOKENIZER.num_words + 1\n",
    "DEVICE = 'cuda' if torch.cuda.is_available() else 'cpu'\n",
    "LR = 1e-3\n",
    "\n",
    "df = pd.read_parquet('healthCare.parquet').dropna()\n",
    "# input_texts = df['input'].apply(ThisTokenizer.clean_text).tolist()\n",
    "# target_texts = df['output'].apply(ThisTokenizer.clean_text).tolist()"
   ]
  },
  {
   "cell_type": "code",
   "execution_count": 6,
   "id": "f6e0009f",
   "metadata": {},
   "outputs": [
    {
     "name": "stdout",
     "output_type": "stream",
     "text": [
      "✅ SUCCESSFULLY GET CLEAN DATA: 550\n"
     ]
    }
   ],
   "source": [
    "def build_clean_dataset(df, tokenizer, max_input_len=INPUT_LIMIT, max_target_len=OUTPUT_LIMIT, max_samples=TRAINING_SIZE, unk_id=1):\n",
    "    clean_inputs = []\n",
    "    clean_targets = []\n",
    "\n",
    "    for i in range(len(df)):\n",
    "        raw_input = df.iloc[i]['input']\n",
    "        raw_output = df.iloc[i]['output']\n",
    "\n",
    "        # 预处理文本（加 <start>/<end>）\n",
    "        input_text = myTokenizer.clean_text(str(raw_input))\n",
    "        target_text = myTokenizer.clean_text(str(raw_output))\n",
    "\n",
    "        input_ids = tokenizer.texts_to_sequences([input_text])[0]\n",
    "        target_ids = tokenizer.texts_to_sequences([target_text])[0]\n",
    "\n",
    "        # 条件 1：UNK 占比限制\n",
    "        if input_ids.count(unk_id) / len(input_ids) > 0.3:\n",
    "            continue\n",
    "        if target_ids.count(unk_id) / len(target_ids) > 0.3:\n",
    "            continue\n",
    "\n",
    "        # 条件 2：是否在截断前包含 <end> token\n",
    "        end_id = tokenizer.word_index.get(\"<end>\")\n",
    "        if end_id is None or end_id not in input_ids[:max_input_len]:\n",
    "            continue\n",
    "        if end_id not in target_ids[:max_target_len]:\n",
    "            continue\n",
    "\n",
    "        # 截断 + pad 可交由 ChatDataset 完成\n",
    "        clean_inputs.append(input_text)\n",
    "        clean_targets.append(target_text)\n",
    "\n",
    "        if len(clean_inputs) >= max_samples:\n",
    "            break\n",
    "\n",
    "    print(f\"✅ SUCCESSFULLY GET CLEAN DATA: {len(clean_inputs)}\")\n",
    "    return clean_inputs, clean_targets\n",
    "\n",
    "\n",
    "input_texts, target_texts = build_clean_dataset(\n",
    "    df, tokenizer=TOKENIZER,\n",
    "    max_input_len=INPUT_LIMIT, max_target_len=OUTPUT_LIMIT, max_samples=TRAINING_SIZE,unk_id=UNK_ID\n",
    ")\n"
   ]
  },
  {
   "cell_type": "code",
   "execution_count": 7,
   "id": "2d5f815b",
   "metadata": {},
   "outputs": [
    {
     "name": "stdout",
     "output_type": "stream",
     "text": [
      "input text: <start> i woke up this morning feeling the whole room is spinning when i was sitting down . i went to the bathroom walking unsteadily , as i tried to focus i feel nauseous . i try to vomit but it wont come out . . after taking panadol and sleep for few hours , i still feel the same . . by the way , if i lay down or sit down , my head do not spin , only when i want to move around then i feel the whole world is spinning . . and it is normal stomach discomfort at the same time ? earlier after i relieved myself , the spinning lessen so i am not sure whether its connected or coincidences . . thank you doc ! <end>\n",
      "target text: <start> hi , thank you for posting your query . the most likely cause for your symptoms is benign paroxysmal positional vertigo (bppv) , a type of peripheral vertigo . in this condition , the most common symptom is dizziness or giddiness , which is made worse with movements . accompanying nausea and vomiting are common . the condition is due to problem in the ear , and improves in a few days on own . betahistine tablets would help relieve your symptoms . doing vestibular rehabilitation or adaptation exercises would prevent the recurrence of these symptoms . an ent evaluation would also help . i hope it helps . best wishes , chat doctor . <end>\n"
     ]
    }
   ],
   "source": [
    "# print the first line of the input and target texts\n",
    "print(\"input text:\", input_texts[0])\n",
    "print(\"target text:\", target_texts[0])"
   ]
  },
  {
   "cell_type": "code",
   "execution_count": 8,
   "id": "e29f2577",
   "metadata": {},
   "outputs": [],
   "source": [
    "from sklearn.model_selection import train_test_split\n",
    "from torch.utils.data import DataLoader\n",
    "from utils.dataCollect import ChatDataset\n",
    "\n",
    "train_inputs, val_inputs, train_targets, val_targets = train_test_split(\n",
    "    input_texts, target_texts, test_size=0.1, random_state=42)\n",
    "\n",
    "train_set = ChatDataset(train_inputs, train_targets, TOKENIZER, max_len=200, max_target_len=200)\n",
    "val_set = ChatDataset(val_inputs, val_targets, TOKENIZER, max_len=200, max_target_len=200)\n",
    "\n",
    "train_loader = DataLoader(train_set, batch_size=BATCH_SIZE, shuffle=True)\n",
    "val_loader = DataLoader(val_set, batch_size=BATCH_SIZE)\n"
   ]
  },
  {
   "cell_type": "code",
   "execution_count": 9,
   "id": "9aa14600",
   "metadata": {},
   "outputs": [],
   "source": [
    "from models.BiLSTM import EncoderBiLSTM, DecoderLSTM, Seq2Seq, Attention\n",
    "\n",
    "# 假设你已经知道下面这些参数：\n",
    "vocab_size = VOCAB_SIZE\n",
    "embedding_dim = 256\n",
    "hidden_dim = 512\n",
    "pad_idx = 0\n",
    "output_dim = vocab_size  # 生成任务，输出词表大小和输入相同\n",
    "\n",
    "attn = Attention(hidden_dim)\n",
    "encoder = EncoderBiLSTM(vocab_size, embedding_dim, hidden_dim, pad_idx)\n",
    "decoder = DecoderLSTM(vocab_size, embedding_dim, hidden_dim, output_dim, pad_idx, attn)\n",
    "model = Seq2Seq(encoder, decoder, pad_idx=pad_idx, device=DEVICE).to(DEVICE)\n",
    "\n",
    "optimizer = torch.optim.Adam(model.parameters(), lr=LR)\n",
    "criterion = torch.nn.CrossEntropyLoss(ignore_index=pad_idx)\n",
    "loss_fn = torch.nn.CrossEntropyLoss(ignore_index=0)\n"
   ]
  },
  {
   "cell_type": "code",
   "execution_count": 10,
   "id": "37c416e5",
   "metadata": {},
   "outputs": [
    {
     "name": "stdout",
     "output_type": "stream",
     "text": [
      "\n",
      "Epoch 999/1000\n"
     ]
    },
    {
     "name": "stderr",
     "output_type": "stream",
     "text": [
      "Train: 100%|██████████| 36/36 [00:47<00:00,  1.31s/it, loss=0.097] \n",
      "Val: 100%|██████████| 4/4 [00:01<00:00,  3.86it/s, loss=15.2]\n"
     ]
    },
    {
     "name": "stdout",
     "output_type": "stream",
     "text": [
      "Epoch 999 | Train Loss: 0.1504 | Val Loss: 14.9879\n",
      "\n",
      "Epoch 1000/1000\n"
     ]
    },
    {
     "name": "stderr",
     "output_type": "stream",
     "text": [
      "Train: 100%|██████████| 36/36 [00:46<00:00,  1.31s/it, loss=0.132] \n",
      "Val: 100%|██████████| 4/4 [00:01<00:00,  3.97it/s, loss=15.3]"
     ]
    },
    {
     "name": "stdout",
     "output_type": "stream",
     "text": [
      "Epoch 1000 | Train Loss: 0.1604 | Val Loss: 15.0322\n"
     ]
    },
    {
     "name": "stderr",
     "output_type": "stream",
     "text": [
      "\n"
     ]
    },
    {
     "data": {
      "image/png": "[encoded data removed]",
      "text/plain": [
       "<Figure size 640x480 with 1 Axes>"
      ]
     },
     "metadata": {},
     "output_type": "display_data"
    }
   ],
   "source": [
    "import matplotlib.pyplot as plt\n",
    "from IPython.display import clear_output  # 只需写在开头一次\n",
    "\n",
    "from tqdm import tqdm\n",
    "EPOCHS = 1000\n",
    "\n",
    "train_losses = []\n",
    "val_losses = []\n",
    "\n",
    "def train(model, train_loader, optimizer, criterion, device, clip=1.0):\n",
    "    model.train()\n",
    "    total_loss = 0\n",
    "    train_loop = tqdm(train_loader, desc=\"Train\")\n",
    "\n",
    "    for src, tgt in train_loop:\n",
    "        src, tgt = src.to(device), tgt.to(device)\n",
    "\n",
    "        tgt_input = tgt[:, :-1]      # 去掉 <eos>\n",
    "        tgt_output = tgt[:, 1:]      # 去掉 <sos>\n",
    "\n",
    "        optimizer.zero_grad()\n",
    "        output = model(src, tgt_input)  # [batch, trg_len, vocab_size]\n",
    "\n",
    "        output = output.reshape(-1, output.shape[-1])     # [batch * trg_len, vocab_size]\n",
    "        tgt_output = tgt_output.reshape(-1)               # [batch * trg_len]\n",
    "\n",
    "        loss = criterion(output, tgt_output)\n",
    "        loss.backward()\n",
    "        torch.nn.utils.clip_grad_norm_(model.parameters(), clip)\n",
    "        optimizer.step()\n",
    "\n",
    "        total_loss += loss.item()\n",
    "        train_loop.set_postfix(loss=loss.item())\n",
    "\n",
    "    return total_loss / len(train_loader)\n",
    "\n",
    "\n",
    "def evaluate(model, val_loader, criterion, device):\n",
    "    model.eval()\n",
    "    total_loss = 0\n",
    "    val_loop = tqdm(val_loader, desc=\"Val\")\n",
    "\n",
    "    with torch.no_grad():\n",
    "        for src, tgt in val_loop:\n",
    "            src, tgt = src.to(device), tgt.to(device)\n",
    "\n",
    "            tgt_input = tgt[:, :-1]\n",
    "            tgt_output = tgt[:, 1:]\n",
    "\n",
    "            output = model(src, tgt_input, teacher_forcing_ratio=0.0)\n",
    "\n",
    "            output = output.reshape(-1, output.shape[-1])     # [batch * trg_len, vocab_size]\n",
    "            tgt_output = tgt_output.reshape(-1)               # [batch * trg_len]\n",
    "\n",
    "            loss = criterion(output, tgt_output)\n",
    "            total_loss += loss.item()\n",
    "            val_loop.set_postfix(loss=loss.item())\n",
    "\n",
    "    return total_loss / len(val_loader)\n",
    "\n",
    "\n",
    "\n",
    "\n",
    "for epoch in range(EPOCHS):\n",
    "    if epoch % 2 == 0:\n",
    "        clear_output(wait=True)\n",
    "    print(f\"\\nEpoch {epoch + 1}/{EPOCHS}\")\n",
    "    train_loss = train(model, train_loader, optimizer, criterion, DEVICE)\n",
    "    val_loss = evaluate(model, val_loader, criterion, DEVICE)\n",
    "    train_losses.append(train_loss)\n",
    "    val_losses.append(val_loss)\n",
    "    print(f\"Epoch {epoch+1} | Train Loss: {train_loss:.4f} | Val Loss: {val_loss:.4f}\")\n",
    "    if train_loss <= 0.05 or val_loss <= 0.05:\n",
    "        print(f\"✅ Training stopped early at epoch {epoch + 1} as loss reached {train_loss:.4f}\")\n",
    "        break\n",
    "\n",
    "plt.plot(range(1, len(train_losses)+1), train_losses, label='Train Loss')\n",
    "plt.plot(range(1, len(val_losses)+1), val_losses, label='Validation Loss')\n",
    "plt.xlabel(\"Epoch\")\n",
    "plt.ylabel(\"Loss\")\n",
    "plt.title(\"Train vs Validation Loss\")\n",
    "plt.legend()\n",
    "plt.grid(True)\n",
    "plt.savefig('checkpoint/loss_curve_biLSTM_'+str(TRAINING_SIZE)+'.png')\n",
    "plt.show()\n",
    "\n"
   ]
  },
  {
   "cell_type": "code",
   "execution_count": 11,
   "id": "520a6aeb",
   "metadata": {},
   "outputs": [
    {
     "data": {
      "image/png": "[encoded data removed]",
      "text/plain": [
       "<Figure size 640x480 with 1 Axes>"
      ]
     },
     "metadata": {},
     "output_type": "display_data"
    }
   ],
   "source": [
    "plt.plot(range(1, len(train_losses)+1), train_losses, label='Train Loss')\n",
    "plt.plot(range(1, len(val_losses)+1), val_losses, label='Validation Loss')\n",
    "plt.xlabel(\"Epoch\")\n",
    "plt.ylabel(\"Loss\")\n",
    "plt.title(\"Train vs Validation Loss\")\n",
    "plt.legend()\n",
    "plt.grid(True)\n",
    "plt.savefig('checkpoint/loss_curve_biLSTM_'+str(TRAINING_SIZE)+'.png')\n",
    "plt.show()"
   ]
  },
  {
   "cell_type": "code",
   "execution_count": 12,
   "id": "cffb19bd",
   "metadata": {},
   "outputs": [
    {
     "name": "stdout",
     "output_type": "stream",
     "text": [
      "Model saved as weight_biLSTM_550.pth\n",
      "Epoch 999 - Train Loss: 0.1604 | Val Loss: 15.0322\n"
     ]
    }
   ],
   "source": [
    "import os\n",
    "\n",
    "# Save the model\n",
    "os.makedirs(\"checkpoint\", exist_ok=True)\n",
    "torch.save(model.state_dict(), 'checkpoint/weight_biLSTM_'+str(TRAINING_SIZE)+'.pth')\n",
    "print('Model saved as weight_biLSTM_'+str(TRAINING_SIZE)+'.pth')\n",
    "\n",
    "print(f\"Epoch {epoch} - Train Loss: {train_loss:.4f} | Val Loss: {val_loss:.4f}\")"
   ]
  },
  {
   "cell_type": "code",
   "execution_count": 13,
   "id": "a3a8f735",
   "metadata": {},
   "outputs": [],
   "source": [
    "# ✅ 绘图\n"
   ]
  }
 ],
 "metadata": {
  "kernelspec": {
   "display_name": "dia",
   "language": "python",
   "name": "python3"
  },
  "language_info": {
   "codemirror_mode": {
    "name": "ipython",
    "version": 3
   },
   "file_extension": ".py",
   "mimetype": "text/x-python",
   "name": "python",
   "nbconvert_exporter": "python",
   "pygments_lexer": "ipython3",
   "version": "3.10.17"
  }
 },
 "nbformat": 4,
 "nbformat_minor": 5
}
