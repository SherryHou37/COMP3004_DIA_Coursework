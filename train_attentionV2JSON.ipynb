{
 "cells": [
  {
   "cell_type": "code",
   "execution_count": 1,
   "id": "13f2da0f",
   "metadata": {},
   "outputs": [],
   "source": [
    "import pandas as pd\n",
    "import tensorflow as tf\n",
    "import torch"
   ]
  },
  {
   "cell_type": "code",
   "execution_count": 2,
   "id": "df4a3833",
   "metadata": {},
   "outputs": [
    {
     "data": {
      "text/html": [
       "<div>\n",
       "<style scoped>\n",
       "    .dataframe tbody tr th:only-of-type {\n",
       "        vertical-align: middle;\n",
       "    }\n",
       "\n",
       "    .dataframe tbody tr th {\n",
       "        vertical-align: top;\n",
       "    }\n",
       "\n",
       "    .dataframe thead th {\n",
       "        text-align: right;\n",
       "    }\n",
       "</style>\n",
       "<table border=\"1\" class=\"dataframe\">\n",
       "  <thead>\n",
       "    <tr style=\"text-align: right;\">\n",
       "      <th></th>\n",
       "      <th>input</th>\n",
       "      <th>output</th>\n",
       "    </tr>\n",
       "  </thead>\n",
       "  <tbody>\n",
       "    <tr>\n",
       "      <th>0</th>\n",
       "      <td>I woke up this morning feeling the whole room ...</td>\n",
       "      <td>Hi, Thank you for posting your query. The most...</td>\n",
       "    </tr>\n",
       "    <tr>\n",
       "      <th>1</th>\n",
       "      <td>My baby has been pooing 5-6 times a day for a ...</td>\n",
       "      <td>Hi... Thank you for consulting in Chat Doctor....</td>\n",
       "    </tr>\n",
       "    <tr>\n",
       "      <th>2</th>\n",
       "      <td>Hello, My husband is taking Oxycodone due to a...</td>\n",
       "      <td>Hello, and I hope I can help you today.First, ...</td>\n",
       "    </tr>\n",
       "    <tr>\n",
       "      <th>3</th>\n",
       "      <td>lump under left nipple and stomach pain (male)...</td>\n",
       "      <td>HI. You have two different problems. The lump ...</td>\n",
       "    </tr>\n",
       "    <tr>\n",
       "      <th>4</th>\n",
       "      <td>I have a 5 month old baby who is very congeste...</td>\n",
       "      <td>Thank you for using Chat Doctor. I would sugge...</td>\n",
       "    </tr>\n",
       "  </tbody>\n",
       "</table>\n",
       "</div>"
      ],
      "text/plain": [
       "                                               input  \\\n",
       "0  I woke up this morning feeling the whole room ...   \n",
       "1  My baby has been pooing 5-6 times a day for a ...   \n",
       "2  Hello, My husband is taking Oxycodone due to a...   \n",
       "3  lump under left nipple and stomach pain (male)...   \n",
       "4  I have a 5 month old baby who is very congeste...   \n",
       "\n",
       "                                              output  \n",
       "0  Hi, Thank you for posting your query. The most...  \n",
       "1  Hi... Thank you for consulting in Chat Doctor....  \n",
       "2  Hello, and I hope I can help you today.First, ...  \n",
       "3  HI. You have two different problems. The lump ...  \n",
       "4  Thank you for using Chat Doctor. I would sugge...  "
      ]
     },
     "execution_count": 2,
     "metadata": {},
     "output_type": "execute_result"
    }
   ],
   "source": [
    "# load the dataset\n",
    "df = pd.read_parquet('healthCare.parquet')\n",
    "# select the first 500 rows of the dataset\n",
    "df = df.iloc[:500, :]\n",
    "# select two columns\n",
    "df = df[['input', 'output']]   # original text and summary\n",
    "data = df.copy()\n",
    "data.head()"
   ]
  },
  {
   "cell_type": "code",
   "execution_count": 3,
   "id": "281db5bd",
   "metadata": {},
   "outputs": [
    {
     "name": "stdout",
     "output_type": "stream",
     "text": [
      "d:\\learning\\year4_2\\dia\\cw\\Dia_Yixin\n",
      "True\n"
     ]
    }
   ],
   "source": [
    "import os\n",
    "\n",
    "print(os.getcwd())\n",
    "print(os.path.exists(\"utils/mentalHealth.json\"))"
   ]
  },
  {
   "cell_type": "code",
   "execution_count": 4,
   "id": "dee7143d",
   "metadata": {},
   "outputs": [
    {
     "name": "stdout",
     "output_type": "stream",
     "text": [
      "✅ Tokenizer is loaded successfully: /tokenizer/tokenizerForMentalHealth.pkl\n",
      "tokenizer done, with length 14692\n",
      "vocab size: 13000\n"
     ]
    }
   ],
   "source": [
    "from myTokenizer import myTokenizer\n",
    "ThisTokenizer = myTokenizer(num_words=13000)\n",
    "# ThisTokenizer.train_from_json(json_path='utils/mentalHealth.json', inputCol='Context', outputCol='Response')\n",
    "# ThisTokenizer.save_tokenizer('/tokenizer/tokenizerForMentalHealth.pkl')\n",
    "\n",
    "TOKENIZER = ThisTokenizer.load_tokenizer('/tokenizer/tokenizerForMentalHealth.pkl')\n",
    "print(\"tokenizer done, with length\", len(TOKENIZER.word_index) + 1)\n",
    "print(\"vocab size:\", TOKENIZER.num_words)"
   ]
  },
  {
   "cell_type": "code",
   "execution_count": 5,
   "id": "6e2dbba1",
   "metadata": {},
   "outputs": [
    {
     "name": "stdout",
     "output_type": "stream",
     "text": [
      "Vocabulary size: 14691\n",
      "Number of words: 13001\n",
      "<UNKNOWN>: 1\n",
      ".: 2\n",
      "to: 3\n",
      ",: 4\n",
      "you: 5\n",
      "and: 6\n",
      "i: 7\n",
      "the: 8\n",
      "a: 9\n",
      "is: 10\n",
      "that: 11\n",
      "of: 12\n",
      "your: 13\n",
      "in: 14\n",
      "it: 15\n",
      "are: 16\n",
      "not: 17\n",
      "with: 18\n",
      "have: 19\n",
      "for: 20\n",
      "be: 21\n",
      "<start>: 22\n",
      "<end>: 23\n",
      "this: 24\n",
      "do: 25\n",
      "can: 26\n",
      "or: 27\n",
      "if: 28\n",
      "my: 29\n",
      "what: 30\n",
      "?: 31\n",
      "UNK_ID: 1\n",
      ". token: 2\n"
     ]
    }
   ],
   "source": [
    "word2idx = TOKENIZER.word_index\n",
    "\n",
    "# show the length of the vocabulary\n",
    "print(f\"Vocabulary size: {len(word2idx)}\")\n",
    "print(f\"Number of words: {TOKENIZER.num_words + 1}\")\n",
    "\n",
    "idx2word = {v: k for k, v in word2idx.items()}\n",
    "\n",
    "for word, idx in word2idx.items():\n",
    "    print(f\"{word}: {idx}\")\n",
    "    if idx > 30:\n",
    "        break\n",
    "\n",
    "UNK_ID = word2idx['<UNKNOWN>']\n",
    "print(f\"UNK_ID: {UNK_ID}\")\n",
    "print(f\". token: {word2idx['.']}\")"
   ]
  },
  {
   "cell_type": "code",
   "execution_count": 6,
   "id": "e70f2700",
   "metadata": {},
   "outputs": [],
   "source": [
    "TRAINING_SIZE = 1550\n",
    "BATCH_SIZE = 64\n",
    "INPUT_LIMIT = 200\n",
    "OUTPUT_LIMIT = 250\n",
    "VOCAB_SIZE = TOKENIZER.num_words + 1\n",
    "DEVICE = 'cuda' if torch.cuda.is_available() else 'cpu'\n",
    "LR = 1e-4\n",
    "\n",
    "df = pd.read_json(\"utils/mentalHealth.json\", lines=True).dropna()\n",
    "# input_texts = df['input'].apply(ThisTokenizer.clean_text).tolist()\n",
    "# target_texts = df['output'].apply(ThisTokenizer.clean_text).tolist()"
   ]
  },
  {
   "cell_type": "code",
   "execution_count": 7,
   "id": "f6e0009f",
   "metadata": {},
   "outputs": [
    {
     "name": "stdout",
     "output_type": "stream",
     "text": [
      "✅ SUCCESSFULLY GET CLEAN DATA: 1550\n"
     ]
    }
   ],
   "source": [
    "def build_clean_dataset(df, tokenizer, max_input_len=200, max_target_len=250, max_samples=TRAINING_SIZE, unk_id=1):\n",
    "    clean_inputs = []\n",
    "    clean_targets = []\n",
    "\n",
    "    for i in range(len(df)):\n",
    "        raw_input = df.iloc[i]['Context']\n",
    "        raw_output = df.iloc[i]['Response']\n",
    "\n",
    "        # 预处理文本（加 <start>/<end>）\n",
    "        input_text = myTokenizer.clean_text(str(raw_input))\n",
    "        target_text = myTokenizer.clean_text(str(raw_output))\n",
    "\n",
    "        input_ids = tokenizer.texts_to_sequences([input_text])[0]\n",
    "        target_ids = tokenizer.texts_to_sequences([target_text])[0]\n",
    "\n",
    "        # 条件 1：UNK 占比限制\n",
    "        if input_ids.count(unk_id) / len(input_ids) > 0.3:\n",
    "            continue\n",
    "        if target_ids.count(unk_id) / len(target_ids) > 0.3:\n",
    "            continue\n",
    "\n",
    "        # 条件 2：是否在截断前包含 <end> token\n",
    "        end_id = tokenizer.word_index.get(\"<end>\")\n",
    "        if end_id is None or end_id not in input_ids[:max_input_len]:\n",
    "            continue\n",
    "        if end_id not in target_ids[:max_target_len]:\n",
    "            continue\n",
    "\n",
    "        # 截断 + pad 可交由 ChatDataset 完成\n",
    "        clean_inputs.append(input_text)\n",
    "        clean_targets.append(target_text)\n",
    "\n",
    "        if len(clean_inputs) >= max_samples:\n",
    "            break\n",
    "\n",
    "    print(f\"✅ SUCCESSFULLY GET CLEAN DATA: {len(clean_inputs)}\")\n",
    "    return clean_inputs, clean_targets\n",
    "\n",
    "\n",
    "input_texts, target_texts = build_clean_dataset(\n",
    "    df, tokenizer=TOKENIZER,\n",
    "    max_input_len=INPUT_LIMIT, max_target_len=OUTPUT_LIMIT, max_samples=TRAINING_SIZE,unk_id=UNK_ID\n",
    ")\n"
   ]
  },
  {
   "cell_type": "code",
   "execution_count": 8,
   "id": "2d5f815b",
   "metadata": {},
   "outputs": [
    {
     "name": "stdout",
     "output_type": "stream",
     "text": [
      "input text: <start> i am going through some things with my feelings and myself . i barely sleep and i do nothing but think about how i am worthless and how i should not be here . i have never tried or contemplated suicide . i have always wanted to fix my issues , but i never get around to it . how can i change my feeling of being worthless to everyone ? <end>\n",
      "target text: <start> if everyone thinks you are worthless , then maybe you need to find new people to hang out with . seriously , the social context in which a person lives is a big influence in self-esteem . otherwise , you can go round and round trying to understand why you are not worthless , then go back to the same crowd and be knocked down again . there are many inspirational messages you can find in social media . maybe read some of the ones which state that no person is worthless , and that everyone has a good purpose to their life . also , since our culture is so saturated with the belief that if someone does not feel good about themselves that this is somehow terrible . bad feelings are part of living . they are the motivation to remove ourselves from situations and relationships which do us more harm than good . bad feelings do feel terrible . your feeling of worthlessness may be good in the sense of motivating you to find out that you are much better than your feelings today . <end>\n"
     ]
    }
   ],
   "source": [
    "# print the first line of the input and target texts\n",
    "print(\"input text:\", input_texts[0])\n",
    "print(\"target text:\", target_texts[0])"
   ]
  },
  {
   "cell_type": "code",
   "execution_count": 9,
   "id": "e29f2577",
   "metadata": {},
   "outputs": [],
   "source": [
    "from sklearn.model_selection import train_test_split\n",
    "from torch.utils.data import DataLoader\n",
    "from utils.dataCollect import ChatDataset\n",
    "\n",
    "train_inputs, val_inputs, train_targets, val_targets = train_test_split(\n",
    "    input_texts, target_texts, test_size=0.1, random_state=42)\n",
    "\n",
    "train_set = ChatDataset(train_inputs, train_targets, TOKENIZER, max_len=200, max_target_len=200)\n",
    "val_set = ChatDataset(val_inputs, val_targets, TOKENIZER, max_len=200, max_target_len=200)\n",
    "\n",
    "train_loader = DataLoader(train_set, batch_size=BATCH_SIZE, shuffle=True)\n",
    "val_loader = DataLoader(val_set, batch_size=BATCH_SIZE)\n"
   ]
  },
  {
   "cell_type": "code",
   "execution_count": 10,
   "id": "9aa14600",
   "metadata": {},
   "outputs": [],
   "source": [
    "from models.miniTransformerV2 import TransformerChat\n",
    "\n",
    "model = TransformerChat(vocab_size=VOCAB_SIZE).to(DEVICE)\n",
    "optimizer = torch.optim.Adam(model.parameters(), lr=LR)\n",
    "loss_fn = torch.nn.CrossEntropyLoss(ignore_index=0)\n"
   ]
  },
  {
   "cell_type": "code",
   "execution_count": null,
   "id": "37c416e5",
   "metadata": {},
   "outputs": [],
   "source": [
    "import matplotlib.pyplot as plt\n",
    "\n",
    "from tqdm import tqdm\n",
    "EPOCHS = 900\n",
    "\n",
    "train_losses = []\n",
    "val_losses = []\n",
    "\n",
    "for epoch in range(1, EPOCHS + 1):\n",
    "    # ======== Train ========\n",
    "    model.train()\n",
    "    total_loss = 0\n",
    "    train_loop = tqdm(train_loader, desc=f\"Epoch {epoch} [Train]\")\n",
    "    for src, tgt in train_loop:\n",
    "        src, tgt = src.to(DEVICE), tgt.to(DEVICE)\n",
    "        tgt_input = tgt[:, :-1]\n",
    "        tgt_output = tgt[:, 1:]\n",
    "        tgt_mask = torch.triu(torch.ones(tgt_input.size(1), tgt_input.size(1)) * float('-inf'), diagonal=1).to(DEVICE)\n",
    "\n",
    "        out = model(src, tgt_input, tgt_mask=tgt_mask)\n",
    "        loss = loss_fn(out.reshape(-1, VOCAB_SIZE), tgt_output.reshape(-1))\n",
    "\n",
    "        optimizer.zero_grad()\n",
    "        loss.backward()\n",
    "        optimizer.step()\n",
    "        total_loss += loss.item()\n",
    "        train_loop.set_postfix(loss=loss.item())\n",
    "    avg_train_loss = total_loss / len(train_loader)\n",
    "\n",
    "    # ======== Validation ========\n",
    "    model.eval()\n",
    "    total_val_loss = 0\n",
    "    val_loop = tqdm(val_loader, desc=f\"Epoch {epoch} [Val]\")\n",
    "    with torch.no_grad():\n",
    "        for src, tgt in val_loop:\n",
    "            src, tgt = src.to(DEVICE), tgt.to(DEVICE)\n",
    "            tgt_input = tgt[:, :-1]\n",
    "            tgt_output = tgt[:, 1:]\n",
    "            tgt_mask = torch.triu(torch.ones(tgt_input.size(1), tgt_input.size(1)) * float('-inf'), diagonal=1).to(DEVICE)\n",
    "\n",
    "            logits = model(src, tgt_input, tgt_mask=tgt_mask)\n",
    "            loss = loss_fn(logits.reshape(-1, logits.size(-1)), tgt_output.reshape(-1))\n",
    "\n",
    "            total_val_loss += loss.item()\n",
    "            val_loop.set_postfix(loss=loss.item())\n",
    "\n",
    "    avg_val_loss = total_val_loss / len(val_loader)\n",
    "\n",
    "    train_losses.append(avg_train_loss)\n",
    "    val_losses.append(avg_val_loss)\n",
    "\n",
    "    print(f\"Epoch {epoch} - Train Loss: {avg_train_loss:.4f} | Val Loss: {avg_val_loss:.4f}\")\n",
    "\n",
    "    if avg_train_loss <= 0.05 or avg_val_loss <= 0.05:\n",
    "        print(f\"✅ Training stopped early at epoch {epoch} as loss reached {avg_train_loss:.4f}\")\n",
    "        break\n",
    "\n",
    "\n",
    "    \n",
    "plt.plot(range(1, len(train_losses)+1), train_losses, label='Train Loss')\n",
    "plt.plot(range(1, len(val_losses)+1), val_losses, label='Validation Loss')\n",
    "plt.xlabel(\"Epoch\")\n",
    "plt.ylabel(\"Loss\")\n",
    "plt.title(\"Train vs Validation Loss\")\n",
    "plt.legend()\n",
    "plt.grid(True)\n",
    "plt.savefig('checkpoint/loss_curve_transformerV2_JSON_'+str(TRAINING_SIZE)+'.png')\n",
    "plt.show()\n",
    "\n"
   ]
  },
  {
   "cell_type": "code",
   "execution_count": 12,
   "id": "520a6aeb",
   "metadata": {},
   "outputs": [
    {
     "data": {
      "image/png": "[encoded data removed]",
      "text/plain": [
       "<Figure size 640x480 with 1 Axes>"
      ]
     },
     "metadata": {},
     "output_type": "display_data"
    }
   ],
   "source": [
    "plt.plot(range(1, len(train_losses)+1), train_losses, label='Train Loss')\n",
    "plt.plot(range(1, len(val_losses)+1), val_losses, label='Validation Loss')\n",
    "plt.xlabel(\"Epoch\")\n",
    "plt.ylabel(\"Loss\")\n",
    "plt.title(\"Train vs Validation Loss\")\n",
    "plt.legend()\n",
    "plt.grid(True)\n",
    "plt.savefig('checkpoint/loss_curve_transformerV2_JSON_'+str(TRAINING_SIZE)+'.png')\n",
    "plt.show()"
   ]
  },
  {
   "cell_type": "code",
   "execution_count": 13,
   "id": "cffb19bd",
   "metadata": {},
   "outputs": [
    {
     "name": "stdout",
     "output_type": "stream",
     "text": [
      "Model saved as weight_transformerV2_JSON_1550.pth\n",
      "Epoch 900 - Train Loss: 0.8969 | Val Loss: 8.4464\n"
     ]
    }
   ],
   "source": [
    "import os\n",
    "\n",
    "# Save the model\n",
    "os.makedirs(\"checkpoint\", exist_ok=True)\n",
    "torch.save(model.state_dict(), 'checkpoint/weight_transformerV2_JSON_'+str(TRAINING_SIZE)+'.pth')\n",
    "print('Model saved as weight_transformerV2_JSON_'+str(TRAINING_SIZE)+'.pth')\n",
    "\n",
    "print(f\"Epoch {epoch} - Train Loss: {avg_train_loss:.4f} | Val Loss: {avg_val_loss:.4f}\")"
   ]
  },
  {
   "cell_type": "code",
   "execution_count": 14,
   "id": "a3a8f735",
   "metadata": {},
   "outputs": [],
   "source": [
    "# ✅ 绘图\n"
   ]
  }
 ],
 "metadata": {
  "kernelspec": {
   "display_name": "dia",
   "language": "python",
   "name": "python3"
  },
  "language_info": {
   "codemirror_mode": {
    "name": "ipython",
    "version": 3
   },
   "file_extension": ".py",
   "mimetype": "text/x-python",
   "name": "python",
   "nbconvert_exporter": "python",
   "pygments_lexer": "ipython3",
   "version": "3.10.17"
  }
 },
 "nbformat": 4,
 "nbformat_minor": 5
}
